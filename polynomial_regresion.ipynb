{
 "cells": [
  {
   "cell_type": "code",
   "execution_count": 1,
   "metadata": {},
   "outputs": [],
   "source": [
    "import pandas as pd\n",
    "import numpy as np\n",
    "import matplotlib.pyplot as plt\n",
    "import seaborn as sns"
   ]
  },
  {
   "cell_type": "markdown",
   "metadata": {},
   "source": [
    "## Generating the Dataset"
   ]
  },
  {
   "cell_type": "code",
   "execution_count": 8,
   "metadata": {},
   "outputs": [
    {
     "name": "stdout",
     "output_type": "stream",
     "text": [
      "         X1        X2        X3          Y\n",
      "0  0.749080  0.555399  1.046823   7.738801\n",
      "1  1.901429  1.625703  0.987915  14.553783\n",
      "2  1.463988  2.618838  3.625018  18.480581\n",
      "3  1.197317  2.196675  0.998185  11.516384\n",
      "4  0.312037  2.419683  1.087799  10.061833\n"
     ]
    }
   ],
   "source": [
    "# Set random seed for reproducibility\n",
    "np.random.seed(42)\n",
    "\n",
    "# Generate random data for x1, x2, x3\n",
    "x1 = 2 * np.random.rand(1000, 1)\n",
    "x2 = 3 * np.random.rand(1000, 1)\n",
    "x3 = 4 * np.random.rand(1000, 1)\n",
    "\n",
    "# Generate random noise\n",
    "noise = np.random.randn(1000, 1) * 0.5\n",
    "\n",
    "# Generate y values with a polynomial relationship using x1, x2, x3\n",
    "y = 2 + 3 * x1 + 0.5 * x1**2 + 2 * x2 + 1.5 * x3 + noise\n",
    "\n",
    "# Create a DataFrame with multiple features\n",
    "data = pd.DataFrame({\n",
    "    'X1': x1.flatten(),\n",
    "    'X2': x2.flatten(),\n",
    "    'X3': x3.flatten(),\n",
    "    'Y': y.flatten()\n",
    "})\n",
    "\n",
    "# Display the first few rows of the DataFrame\n",
    "print(data.head())\n"
   ]
  }
 ],
 "metadata": {
  "kernelspec": {
   "display_name": "Python 3",
   "language": "python",
   "name": "python3"
  },
  "language_info": {
   "codemirror_mode": {
    "name": "ipython",
    "version": 3
   },
   "file_extension": ".py",
   "mimetype": "text/x-python",
   "name": "python",
   "nbconvert_exporter": "python",
   "pygments_lexer": "ipython3",
   "version": "3.10.2"
  }
 },
 "nbformat": 4,
 "nbformat_minor": 2
}
